{
 "cells": [
  {
   "cell_type": "code",
   "execution_count": 1,
   "metadata": {},
   "outputs": [],
   "source": [
    "import sympy as sym\n",
    "import IPython.display as disp\n",
    "from math import floor\n",
    "sym.init_printing()\n",
    "\n",
    "x, y, z = sym.symbols('x, y, z')\n",
    "F = x**3 + x**2 * y + x * y**2 + y**3 + z*(x**2 + x * y + y**2) - z**2*(x + y) - z**3\n",
    "O = [1, -1, 0]"
   ]
  },
  {
   "cell_type": "code",
   "execution_count": 2,
   "metadata": {},
   "outputs": [],
   "source": [
    "def integerise(P):\n",
    "    _, d = sym.fraction(P[1])\n",
    "    return tuple(d * p for p in P)\n",
    "\n",
    "def points_equal(P1, P2):\n",
    "    return x in sym.solve([p1 - x * p2 for p1, p2 in zip(P1, P2)], x)\n",
    "    # return P1[0] == P2[0] and P1[1] == P2[1] and P1[2] == P2[2]\n",
    "\n",
    "def get_new_point(points, given):\n",
    "    return [p for p in points if not any(points_equal(p, g) for g in given)][0]\n",
    "\n",
    "def tangent_at_point(P):\n",
    "    Fx = sym.diff(F, x)\n",
    "    Fy = sym.diff(F, y)\n",
    "    Fz = sym.diff(F, z)\n",
    "    a = Fx.subs(x, P[0]).subs(y, P[1]).subs(z, P[2])\n",
    "    b = Fy.subs(x, P[0]).subs(y, P[1]).subs(z, P[2])\n",
    "    c = Fz.subs(x, P[0]).subs(y, P[1]).subs(z, P[2])\n",
    "    return a * x + b * y + c * z\n",
    "\n",
    "def add_points(P1, P2):\n",
    "    L = tangent_at_point(P1) if points_equal(P1, P2) else sym.Matrix([P1, P2, [x, y, z]]).det()\n",
    "    points_on_L = sym.solve((F, L, x - 1), x, y, z)\n",
    "\n",
    "    Q = get_new_point(points_on_L, [P1, P2])\n",
    "    L2 = tangent_at_point(Q) if points_equal(Q, O) else sym.Matrix([Q, O, [x, y, z]]).det()\n",
    "    points_on_L2 = sym.solve((F, L2, x - 1), x, y, z)\n",
    "\n",
    "    return integerise(get_new_point(points_on_L2, [Q, O]))\n"
   ]
  },
  {
   "cell_type": "code",
   "execution_count": 3,
   "metadata": {},
   "outputs": [
    {
     "data": {
      "image/png": "[encoded data removed]",
      "text/latex": [
       "$\\displaystyle \\left( 32, \\  -25, \\  -17\\right)$"
      ],
      "text/plain": [
       "(32, -25, -17)"
      ]
     },
     "metadata": {},
     "output_type": "display_data"
    },
    {
     "data": {
      "image/png": "[encoded data removed]",
      "text/latex": [
       "$\\displaystyle \\left( 622895, \\  -600608, \\  -600153\\right)$"
      ],
      "text/plain": [
       "(622895, -600608, -600153)"
      ]
     },
     "metadata": {},
     "output_type": "display_data"
    },
    {
     "data": {
      "image/png": "[encoded data removed]",
      "text/latex": [
       "$\\displaystyle \\left( 301361533449900458837600, \\  49105016933436320224063, \\  316629033253501281102807\\right)$"
      ],
      "text/plain": [
       "(301361533449900458837600, 49105016933436320224063, 316629033253501281102807)"
      ]
     },
     "metadata": {},
     "output_type": "display_data"
    }
   ],
   "source": [
    "P1 = [1, 0, 1]\n",
    "P2 = [1, 1, -1]\n",
    "\n",
    "_2xP1 = add_points(P1, P1)\n",
    "_4xP1 = add_points(_2xP1, _2xP1)\n",
    "_8xP1 = add_points(_4xP1, _4xP1)\n",
    "\n",
    "disp.display(_2xP1)\n",
    "disp.display(_4xP1)\n",
    "disp.display(_8xP1)"
   ]
  },
  {
   "cell_type": "code",
   "execution_count": 7,
   "metadata": {},
   "outputs": [],
   "source": [
    "def print_latex(s):\n",
    "    disp.display(disp.Math(s))\n",
    "\n",
    "def to_latex(P):\n",
    "    return f'\\\\left[{\":\".join(map(str, P))}\\\\right]'\n",
    "\n",
    "def all_pos(P):\n",
    "    return '✅~~' if all(p > 0 for p in P) else '❌~~'"
   ]
  },
  {
   "cell_type": "code",
   "execution_count": 8,
   "metadata": {},
   "outputs": [
    {
     "data": {
      "text/latex": [
       "$\\displaystyle ❌~~\\left[1:0:1\\right] = \\left[1:0:1\\right]$"
      ],
      "text/plain": [
       "<IPython.core.display.Math object>"
      ]
     },
     "metadata": {},
     "output_type": "display_data"
    },
    {
     "data": {
      "text/latex": [
       "$\\displaystyle ❌~~\\left[1:0:1\\right] + \\left[1:1:-1\\right] = \\left[3:1:-5\\right]$"
      ],
      "text/plain": [
       "<IPython.core.display.Math object>"
      ]
     },
     "metadata": {},
     "output_type": "display_data"
    },
    {
     "data": {
      "text/latex": [
       "$\\displaystyle ❌~~2\\left[1:0:1\\right] = \\left[32:-25:-17\\right]$"
      ],
      "text/plain": [
       "<IPython.core.display.Math object>"
      ]
     },
     "metadata": {},
     "output_type": "display_data"
    },
    {
     "data": {
      "text/latex": [
       "$\\displaystyle ❌~~2\\left[1:0:1\\right] + \\left[1:1:-1\\right] = \\left[11:49:-39\\right]$"
      ],
      "text/plain": [
       "<IPython.core.display.Math object>"
      ]
     },
     "metadata": {},
     "output_type": "display_data"
    },
    {
     "data": {
      "text/latex": [
       "$\\displaystyle ❌~~3\\left[1:0:1\\right] = \\left[1425:-1369:1424\\right]$"
      ],
      "text/plain": [
       "<IPython.core.display.Math object>"
      ]
     },
     "metadata": {},
     "output_type": "display_data"
    },
    {
     "data": {
      "text/latex": [
       "$\\displaystyle ❌~~3\\left[1:0:1\\right] + \\left[1:1:-1\\right] = \\left[4067:3:-4147\\right]$"
      ],
      "text/plain": [
       "<IPython.core.display.Math object>"
      ]
     },
     "metadata": {},
     "output_type": "display_data"
    },
    {
     "data": {
      "text/latex": [
       "$\\displaystyle ❌~~4\\left[1:0:1\\right] = \\left[622895:-600608:-600153\\right]$"
      ],
      "text/plain": [
       "<IPython.core.display.Math object>"
      ]
     },
     "metadata": {},
     "output_type": "display_data"
    },
    {
     "data": {
      "text/latex": [
       "$\\displaystyle ❌~~4\\left[1:0:1\\right] + \\left[1:1:-1\\right] = \\left[1217:1681691:-1650455\\right]$"
      ],
      "text/plain": [
       "<IPython.core.display.Math object>"
      ]
     },
     "metadata": {},
     "output_type": "display_data"
    },
    {
     "data": {
      "text/latex": [
       "$\\displaystyle ❌~~5\\left[1:0:1\\right] = \\left[1678098752:-2163601497:1253594615\\right]$"
      ],
      "text/plain": [
       "<IPython.core.display.Math object>"
      ]
     },
     "metadata": {},
     "output_type": "display_data"
    },
    {
     "data": {
      "text/latex": [
       "$\\displaystyle ❌~~5\\left[1:0:1\\right] + \\left[1:1:-1\\right] = \\left[3490731873:618137603:-2810283013\\right]$"
      ],
      "text/plain": [
       "<IPython.core.display.Math object>"
      ]
     },
     "metadata": {},
     "output_type": "display_data"
    },
    {
     "data": {
      "text/latex": [
       "$\\displaystyle ❌~~6\\left[1:0:1\\right] = \\left[1813136012407:-12494663257895:-12138921343648\\right]$"
      ],
      "text/plain": [
       "<IPython.core.display.Math object>"
      ]
     },
     "metadata": {},
     "output_type": "display_data"
    },
    {
     "data": {
      "text/latex": [
       "$\\displaystyle ❌~~6\\left[1:0:1\\right] + \\left[1:1:-1\\right] = \\left[9305138130481:37317920444657:-57534445099665\\right]$"
      ],
      "text/plain": [
       "<IPython.core.display.Math object>"
      ]
     },
     "metadata": {},
     "output_type": "display_data"
    },
    {
     "data": {
      "text/latex": [
       "$\\displaystyle ❌~~7\\left[1:0:1\\right] = \\left[1915107043651396599:-1989458263077243200:149029406778593191\\right]$"
      ],
      "text/plain": [
       "<IPython.core.display.Math object>"
      ]
     },
     "metadata": {},
     "output_type": "display_data"
    },
    {
     "data": {
      "text/latex": [
       "$\\displaystyle ❌~~7\\left[1:0:1\\right] + \\left[1:1:-1\\right] = \\left[2102630943778499683:1804082439276875457:-1961909188723530917\\right]$"
      ],
      "text/plain": [
       "<IPython.core.display.Math object>"
      ]
     },
     "metadata": {},
     "output_type": "display_data"
    },
    {
     "data": {
      "text/latex": [
       "$\\displaystyle ✅~~8\\left[1:0:1\\right] = \\left[301361533449900458837600:49105016933436320224063:316629033253501281102807\\right]$"
      ],
      "text/plain": [
       "<IPython.core.display.Math object>"
      ]
     },
     "metadata": {},
     "output_type": "display_data"
    },
    {
     "data": {
      "text/latex": [
       "$\\displaystyle ❌~~8\\left[1:0:1\\right] + \\left[1:1:-1\\right] = \\left[912468486736166545613659:399351858440153557306561:-1656410507646131248975639\\right]$"
      ],
      "text/plain": [
       "<IPython.core.display.Math object>"
      ]
     },
     "metadata": {},
     "output_type": "display_data"
    },
    {
     "data": {
      "text/latex": [
       "$\\displaystyle ❌~~9\\left[1:0:1\\right] = \\left[1796936669249708902858544311255:-1423005227568185305459634718591:-864310170359634796808328030896\\right]$"
      ],
      "text/plain": [
       "<IPython.core.display.Math object>"
      ]
     },
     "metadata": {},
     "output_type": "display_data"
    },
    {
     "data": {
      "text/latex": [
       "$\\displaystyle ❌~~9\\left[1:0:1\\right] + \\left[1:1:-1\\right] = \\left[728533795296377986231673337891:2616624838605015663239541650563:-2069756666528111289584406038675\\right]$"
      ],
      "text/plain": [
       "<IPython.core.display.Math object>"
      ]
     },
     "metadata": {},
     "output_type": "display_data"
    },
    {
     "data": {
      "text/latex": [
       "$\\displaystyle ❌~~10\\left[1:0:1\\right] = \\left[12896439777020108569575147405247843351:-11296314137620225373079782688022937696:12822086086009643625439546246364130815\\right]$"
      ],
      "text/plain": [
       "<IPython.core.display.Math object>"
      ]
     },
     "metadata": {},
     "output_type": "display_data"
    },
    {
     "data": {
      "text/latex": [
       "$\\displaystyle ❌~~10\\left[1:0:1\\right] + \\left[1:1:-1\\right] = \\left[37359287896762395208926975005978738801:253604894442065406860624619437356171:-39699443566948820238454245276062926311\\right]$"
      ],
      "text/plain": [
       "<IPython.core.display.Math object>"
      ]
     },
     "metadata": {},
     "output_type": "display_data"
    },
    {
     "data": {
      "text/latex": [
       "$\\displaystyle ❌~~11\\left[1:0:1\\right] = \\left[1066980826231327272220791574487991161397058944:-966143129411191419008974230060407610913846255:-959120133972042995715400008089893995585041551\\right]$"
      ],
      "text/plain": [
       "<IPython.core.display.Math object>"
      ]
     },
     "metadata": {},
     "output_type": "display_data"
    },
    {
     "data": {
      "text/latex": [
       "$\\displaystyle ❌~~11\\left[1:0:1\\right] + \\left[1:1:-1\\right] = \\left[16931755262700863045721906787325426576611553:2642019117845180084855782394655121687204242531:-2502753757568725914361180113061608574750443685\\right]$"
      ],
      "text/plain": [
       "<IPython.core.display.Math object>"
      ]
     },
     "metadata": {},
     "output_type": "display_data"
    },
    {
     "data": {
      "text/latex": [
       "$\\displaystyle ❌~~12\\left[1:0:1\\right] = \\left[430435421826433520060189758935494436114558277773127567:-555136951538296741415193530311648149340726064910619375:347530153282474289201144721089593900863887639053027008\\right]$"
      ],
      "text/plain": [
       "<IPython.core.display.Math object>"
      ]
     },
     "metadata": {},
     "output_type": "display_data"
    },
    {
     "data": {
      "text/latex": [
       "$\\displaystyle ❌~~12\\left[1:0:1\\right] + \\left[1:1:-1\\right] = \\left[946016175486532877432688484022634084079336389800836481:128419868937145654341150549009386147725720198476237569:-773792850182659791046451438032442656406917173592264769\\right]$"
      ],
      "text/plain": [
       "<IPython.core.display.Math object>"
      ]
     },
     "metadata": {},
     "output_type": "display_data"
    },
    {
     "data": {
      "text/latex": [
       "$\\displaystyle ❌~~13\\left[1:0:1\\right] = \\left[163816468941422885244056629982782096261553276341339547540320625:-589650944725129471890684552789239493939373733400463364101635456:-565186263871372786782953551782377409675731932521697217703630319\\right]$"
      ],
      "text/plain": [
       "<IPython.core.display.Math object>"
      ]
     },
     "metadata": {},
     "output_type": "display_data"
    },
    {
     "data": {
      "text/latex": [
       "$\\displaystyle ❌~~13\\left[1:0:1\\right] + \\left[1:1:-1\\right] = \\left[319671386747866532866057770381783385536884296393816748508696867:1757554303541318625946180810868170217090848906094549562690915233:-2523510151105115533497620153582488316686501635493358255398188517\\right]$"
      ],
      "text/plain": [
       "<IPython.core.display.Math object>"
      ]
     },
     "metadata": {},
     "output_type": "display_data"
    },
    {
     "data": {
      "text/latex": [
       "$\\displaystyle ❌~~14\\left[1:0:1\\right] = \\left[13979221333105226428821040994015742887840050066633335875613612138691153760:-15073966608282562975051510865844338228089520875570010652704879377912355383:2208954152879294002616410666641986382515202956867821986239682626371709857\\right]$"
      ],
      "text/plain": [
       "<IPython.core.display.Math object>"
      ]
     },
     "metadata": {},
     "output_type": "display_data"
    },
    {
     "data": {
      "text/latex": [
       "$\\displaystyle ❌~~14\\left[1:0:1\\right] + \\left[1:1:-1\\right] = \\left[16782437165379048434309664885487584544595123608625444085393569599560909067:12335514480172483671144728234613411643364324780546728923171884410868011121:-14813299876596375244349922927753203566449138022561893629275990183145489895\\right]$"
      ],
      "text/plain": [
       "<IPython.core.display.Math object>"
      ]
     },
     "metadata": {},
     "output_type": "display_data"
    },
    {
     "data": {
      "text/latex": [
       "$\\displaystyle ✅~~15\\left[1:0:1\\right] = \\left[340524552696885370781942319435835519758408390440880518259118634429142609815089735647:120197130237630553041790181202857125293395542467803228803767681289224658877488246793:386090313553227714499049297504391531818514912559052298358244292260727557311646147120\\right]$"
      ],
      "text/plain": [
       "<IPython.core.display.Math object>"
      ]
     },
     "metadata": {},
     "output_type": "display_data"
    },
    {
     "data": {
      "text/latex": [
       "$\\displaystyle ❌~~15\\left[1:0:1\\right] + \\left[1:1:-1\\right] = \\left[1049187778038598903971192088527066085267476198616108154159409303193523131608381534403:595391783291213956302935083506229547516712703025134748775113889657441018154227596643:-2091959538442918051977545190560713454383727406270867143035169909596308800089739255123\\right]$"
      ],
      "text/plain": [
       "<IPython.core.display.Math object>"
      ]
     },
     "metadata": {},
     "output_type": "display_data"
    }
   ],
   "source": [
    "DESIRED_RESULTS = 30\n",
    "\n",
    "P1 = (1, 0, 1)\n",
    "P2 = (1, 1, -1)\n",
    "\n",
    "cur = P1\n",
    "for i in range(floor(DESIRED_RESULTS / 2)):\n",
    "    multiple = i + 1 if i != 0 else \"\"\n",
    "    print_latex(f'{all_pos(cur)}{multiple}{to_latex(P1)} = {to_latex(cur)}')\n",
    "\n",
    "    cur_plus_P2 = add_points(cur, P2)\n",
    "    print_latex(f'{all_pos(cur_plus_P2)}{multiple}{to_latex(P1)} + {to_latex(P2)} = {to_latex(cur_plus_P2)}')\n",
    "\n",
    "    cur = add_points(cur, P1)"
   ]
  },
  {
   "cell_type": "markdown",
   "metadata": {},
   "source": [
    "# Code for the Poster"
   ]
  },
  {
   "cell_type": "code",
   "execution_count": 10,
   "metadata": {},
   "outputs": [
    {
     "name": "stdout",
     "output_type": "stream",
     "text": [
      "(301361533449900458837600, 49105016933436320224063, 316629033253501281102807)\n"
     ]
    }
   ],
   "source": [
    "x, y, z = sym.symbols('x, y, z')\n",
    "F = x**3 + x**2 * y + x * y**2 + y**3 + z*(x**2 + x * y + y**2) \\\n",
    "     - z**2*(x + y) - z**3\n",
    "O = [1, -1, 0]\n",
    "\n",
    "# Returns whether two points are equal down to scaling\n",
    "def points_equal(P1, P2):\n",
    "    return x in sym.solve([p1 - x * p2 for p1, p2 in zip(P1, P2)], x)\n",
    "\n",
    "# Filters out the two points we know and returns the new point found\n",
    "def get_new_point(points, given):\n",
    "    return [p for p in points if not \n",
    "any(points_equal(p, g) for g in given)][0]\n",
    "\n",
    "# Differentiates F and returns the tangent line eq at point P\n",
    "def tangent_at_point(P):\n",
    "    a = sym.diff(F, x).subs(x, P[0]).subs(y, P[1]).subs(z, P[2])\n",
    "    b = sym.diff(F, y).subs(x, P[0]).subs(y, P[1]).subs(z, P[2])\n",
    "    c = sym.diff(F, z).subs(x, P[0]).subs(y, P[1]).subs(z, P[2])\n",
    "    return a * x + b * y + c * z\n",
    "\n",
    "# Takes in two points and performs the algorithm defined in [2]\n",
    "def add_points(P1, P2):\n",
    "    L = tangent_at_point(P1) if points_equal(P1, P2) else \\\n",
    "        sym.Matrix([P1, P2, [x, y, z]]).det()\n",
    "    points_on_L = sym.solve((F, L, x - 1), x, y, z)\n",
    "\n",
    "    Q = get_new_point(points_on_L, [P1, P2])\n",
    "    L2 = tangent_at_point(Q) if points_equal(Q, O) else \\\n",
    "        sym.Matrix([Q, O, [x, y, z]]).det()\n",
    "    points_on_L2 = sym.solve((F, L2, x - 1), x, y, z)\n",
    "\n",
    "    return integerise(get_new_point(points_on_L2, [Q, O]))\n",
    "\n",
    "\n",
    "# Take point [1 : 0 : 1] and add it to itself 3 times, creating 8[1 : 0 : 1]\n",
    "P1 = (1, 0, 1)\n",
    "_2xP1 = add_points(P1, P1)\n",
    "_4xP1 = add_points(_2xP1, _2xP1)\n",
    "print(add_points(_4xP1, _4xP1))"
   ]
  }
 ],
 "metadata": {
  "kernelspec": {
   "display_name": "Python 3",
   "language": "python",
   "name": "python3"
  },
  "language_info": {
   "codemirror_mode": {
    "name": "ipython",
    "version": 3
   },
   "file_extension": ".py",
   "mimetype": "text/x-python",
   "name": "python",
   "nbconvert_exporter": "python",
   "pygments_lexer": "ipython3",
   "version": "3.9.17"
  }
 },
 "nbformat": 4,
 "nbformat_minor": 2
}
